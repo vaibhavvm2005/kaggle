{
 "cells": [
  {
   "cell_type": "code",
   "execution_count": 1,
   "id": "8f41d2a3",
   "metadata": {
    "_cell_guid": "b1076dfc-b9ad-4769-8c92-a6c4dae69d19",
    "_uuid": "8f2839f25d086af736a60e9eeb907d3b93b6e0e5",
    "execution": {
     "iopub.execute_input": "2024-11-22T13:19:30.941624Z",
     "iopub.status.busy": "2024-11-22T13:19:30.940558Z",
     "iopub.status.idle": "2024-11-22T13:19:31.742702Z",
     "shell.execute_reply": "2024-11-22T13:19:31.741627Z"
    },
    "papermill": {
     "duration": 0.807752,
     "end_time": "2024-11-22T13:19:31.744923",
     "exception": false,
     "start_time": "2024-11-22T13:19:30.937171",
     "status": "completed"
    },
    "tags": []
   },
   "outputs": [],
   "source": [
    "# This Python 3 environment comes with many helpful analytics libraries installed\n",
    "# It is defined by the kaggle/python Docker image: https://github.com/kaggle/docker-python\n",
    "# For example, here's several helpful packages to load\n",
    "\n",
    "import numpy as np # linear algebra\n",
    "import pandas as pd # data processing, CSV file I/O (e.g. pd.read_csv)\n",
    "\n",
    "# Input data files are available in the read-only \"../input/\" directory\n",
    "# For example, running this (by clicking run or pressing Shift+Enter) will list all files under the input directory\n",
    "\n",
    "import os\n",
    "for dirname, _, filenames in os.walk('/kaggle/input'):\n",
    "    for filename in filenames:\n",
    "        print(os.path.join(dirname, filename))\n",
    "\n",
    "# You can write up to 20GB to the current directory (/kaggle/working/) that gets preserved as output when you create a version using \"Save & Run All\" \n",
    "# You can also write temporary files to /kaggle/temp/, but they won't be saved outside of the current session"
   ]
  },
  {
   "cell_type": "code",
   "execution_count": 2,
   "id": "29d1efef",
   "metadata": {
    "execution": {
     "iopub.execute_input": "2024-11-22T13:19:31.750391Z",
     "iopub.status.busy": "2024-11-22T13:19:31.749411Z",
     "iopub.status.idle": "2024-11-22T13:19:31.755262Z",
     "shell.execute_reply": "2024-11-22T13:19:31.754301Z"
    },
    "papermill": {
     "duration": 0.010576,
     "end_time": "2024-11-22T13:19:31.757335",
     "exception": false,
     "start_time": "2024-11-22T13:19:31.746759",
     "status": "completed"
    },
    "tags": []
   },
   "outputs": [
    {
     "name": "stdout",
     "output_type": "stream",
     "text": [
      "Sum is  8\n"
     ]
    }
   ],
   "source": [
    "a=3;\n",
    "b=5;\n",
    "sum=a+b;\n",
    "print(\"Sum is \",sum);"
   ]
  },
  {
   "cell_type": "code",
   "execution_count": null,
   "id": "fed8a155",
   "metadata": {
    "papermill": {
     "duration": 0.001336,
     "end_time": "2024-11-22T13:19:31.760435",
     "exception": false,
     "start_time": "2024-11-22T13:19:31.759099",
     "status": "completed"
    },
    "tags": []
   },
   "outputs": [],
   "source": []
  }
 ],
 "metadata": {
  "kaggle": {
   "accelerator": "none",
   "dataSources": [],
   "dockerImageVersionId": 30786,
   "isGpuEnabled": false,
   "isInternetEnabled": false,
   "language": "python",
   "sourceType": "notebook"
  },
  "kernelspec": {
   "display_name": "Python 3",
   "language": "python",
   "name": "python3"
  },
  "language_info": {
   "codemirror_mode": {
    "name": "ipython",
    "version": 3
   },
   "file_extension": ".py",
   "mimetype": "text/x-python",
   "name": "python",
   "nbconvert_exporter": "python",
   "pygments_lexer": "ipython3",
   "version": "3.10.14"
  },
  "papermill": {
   "default_parameters": {},
   "duration": 3.747117,
   "end_time": "2024-11-22T13:19:32.181915",
   "environment_variables": {},
   "exception": null,
   "input_path": "__notebook__.ipynb",
   "output_path": "__notebook__.ipynb",
   "parameters": {},
   "start_time": "2024-11-22T13:19:28.434798",
   "version": "2.6.0"
  }
 },
 "nbformat": 4,
 "nbformat_minor": 5
}
